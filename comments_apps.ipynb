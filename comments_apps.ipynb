{
 "cells": [
  {
   "cell_type": "code",
   "execution_count": null,
   "id": "b789894d",
   "metadata": {},
   "outputs": [
    {
     "name": "stdout",
     "output_type": "stream",
     "text": [
      "Escrita finalizada em nubank.txt\n",
      "Escrita finalizada em banco_inter.txt\n",
      "Escrita finalizada em c6_bank.txt\n",
      "Escrita finalizada em pag_bank.txt\n",
      "Escrita finalizada em picpay.txt\n",
      "Escrita finalizada em conta_bemol.txt\n"
     ]
    }
   ],
   "source": [
    "from google_play_scraper import Sort, reviews\n",
    "\n",
    "app_packages = {\n",
    "    'nubank': 'com.nu.production',             # Nubank :contentReference[oaicite:0]{index=0}\n",
    "    'banco_inter': 'br.com.intermedium',       # Banco Inter :contentReference[oaicite:1]{index=1}\n",
    "    'c6_bank': 'com.c6bank.app',               # C6 Bank :contentReference[oaicite:2]{index=2}\n",
    "    'pag_bank': 'br.com.uol.ps.myaccount',     # PagBank :contentReference[oaicite:3]{index=3}\n",
    "    'picpay': 'com.picpay',                    # PicPay :contentReference[oaicite:4]{index=4}\n",
    "    'conta_bemol': 'br.com.contabemol.app',    # Conta Bemol :contentReference[oaicite:5]{index=5}\n",
    "}\n",
    "\n",
    "\n",
    "def fetch_latest_reviews(app_package: str, lang: str = 'pt', country: str = 'br', n: int = 200) -> dict:\n",
    "    result, _ = reviews(\n",
    "        app_package,\n",
    "        lang=lang,\n",
    "        country=country,\n",
    "        sort=Sort.NEWEST,\n",
    "        count=n\n",
    "    )\n",
    "    return {r['reviewId']: r for r in result}\n",
    "\n",
    "if __name__ == '__main__':\n",
    "    \n",
    "    for name_bank, app_package in app_packages.items():\n",
    "        latest_reviews = fetch_latest_reviews(app_package)\n",
    "\n",
    "        # Defina o nome do arquivo de saída\n",
    "        output_file = f'{name_bank}.txt'\n",
    "\n",
    "        # Abre (ou cria) o arquivo e escreve cada review formatado\n",
    "        with open(output_file, 'w', encoding='utf-8') as f:\n",
    "            for attrs in latest_reviews.values():\n",
    "                # Formate como preferir; aqui usamos data, usuário, nota e conteúdo\n",
    "                f.write(f\"{attrs['at']} — {attrs['userName']} ★{attrs['score']}\\n\")\n",
    "                f.write(f\"{attrs['content']}\\n\")\n",
    "                f.write(\"-\" * 80 + \"\\n\")  # separador entre reviews\n",
    "\n",
    "        print(f\"Escrita finalizada em {output_file}\")"
   ]
  },
  {
   "cell_type": "markdown",
   "id": "730d3d02",
   "metadata": {},
   "source": [
    "1. Média de Avalação (Star Rating)\n",
    "- O quê: Nota média das avaliações (por ex. de 1 a 5 estrelas).\n",
    "- Por quê: É o termômetro geral de satisfação frente à concorrência.\n",
    "\n",
    "2. Pontuação de Sentimento (Sentiment Score)\n",
    "- O quê: Escore médio de polaridade (−1 a +1) extraído do texto dos comentários.\n",
    "- Por quê: Captura nuances além das estrelas — identifica se um “★3” carrega tóxico ou construtivo.\n",
    "\n",
    "3. Net Promoter Score Textual (NPS-T)\n",
    "- O quê: Percentual de “promotores” vs “detratores” calculado a partir de expressões-chave (“recomendo”, “lixo”, etc.).\n",
    "- Por quê: Mensura propensão a indicar o app, rico para benchmarking de marca.\n",
    "\n",
    "4. Índice de Volume de Reclamações\n",
    "- O quê: Proporção de comentários negativos (★1–2) sobre o total.\n",
    "- Por quê: Alta concentração de críticas sinaliza problemas estruturais (ex.: fraudes, bloqueios) fileciteturn0file0.\n",
    "\n",
    "5. Frequência de Menção de Categorias (Topic Frequency)\n",
    "- O quê: Contagem de menções às principais categorias (suporte, instabilidade, fraude, limite, Pix, etc.).\n",
    "- Por quê: Revela quais áreas geram mais feedback — onde priorizar melhorias.\n",
    "\n",
    "6. Índice de Instabilidade e Erros (Stability Index)\n",
    "- O quê: Percentual de comentários que mencionam “travou”, “erro”, “instabilidade” ou “não abre”.\n",
    "- Por quê: Avalia robustez técnica do app em campo.\n",
    "\n",
    "7. Tempo Médio de Resolução (quando possível medir)\n",
    "- O quê: Tempo entre relato de problema e confirmação de solução (via atualização de comentário ou canal de suporte).\n",
    "- Por quê: Mensura eficiência do pós-venda e suporte — ponto-chave de fidelização.\n",
    "\n",
    "8. Satisfação de Funcionalidades-Chave (Feature-Satisfaction Score)\n",
    "- O quê: Escores específicos (1–5) para funcionalidades como “cartão”, “Pix”, “cofrinho”, “extrato”.\n",
    "- Por quê: Identifica forças e fraquezas por funcionalidade.\n",
    "\n",
    "9. Taxa de Reclamações Críticas (Critical Issue Rate)\n",
    "- O quê: Proporção de comentários que descrevem perda financeira (fraude, débito indevido) ou bloqueio de conta.\n",
    "- Por quê: Problemas críticos têm peso muito maior para reputação e compliance.\n",
    "\n",
    "10. Tendência Temporal do Sentimento (Sentiment Trend)\n",
    "- O quê: Evolução mensal do Sentiment Score e da Média de Avaliação.\n",
    "- Por quê: Permite ver se as ações de melhoria estão surtindo efeito, comparável entre bancos.\n",
    "\n",
    "Como usar esses indicadores para comparar bancos?\n",
    "- Normalize cada métrica para uma escala comum (0–100).\n",
    "- Ranqueie bancos em cada indicador e monte um dashboard de “radar chart” para visualização direta.\n",
    "- Ajuste pesos conforme estratégia (por exemplo, segurança pode ter peso maior que UI).\n",
    "\n",
    "Com esse conjunto, você terá uma visão multidimensional — desde a satisfação geral até pontos críticos de falha — e poderá comparar de forma consistente e objetiva diferentes apps bancários.\n"
   ]
  }
 ],
 "metadata": {
  "kernelspec": {
   "display_name": "Python 3",
   "language": "python",
   "name": "python3"
  },
  "language_info": {
   "codemirror_mode": {
    "name": "ipython",
    "version": 3
   },
   "file_extension": ".py",
   "mimetype": "text/x-python",
   "name": "python",
   "nbconvert_exporter": "python",
   "pygments_lexer": "ipython3",
   "version": "3.13.3"
  }
 },
 "nbformat": 4,
 "nbformat_minor": 5
}
